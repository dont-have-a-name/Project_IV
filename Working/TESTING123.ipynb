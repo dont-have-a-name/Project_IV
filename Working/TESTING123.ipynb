{
 "cells": [
  {
   "cell_type": "code",
   "execution_count": 2,
   "id": "ee9c95db",
   "metadata": {},
   "outputs": [
    {
     "name": "stdout",
     "output_type": "stream",
     "text": [
      "now done\n"
     ]
    }
   ],
   "source": [
    "import numpy as np\n",
    "\n",
    "from elastica.modules import BaseSystemCollection, Constraints, Forcing, CallBacks, Damping\n",
    "from elastica.rod.cosserat_rod import CosseratRod\n",
    "from elastica.dissipation import AnalyticalLinearDamper\n",
    "from elastica.external_forces import GravityForces, MuscleTorques\n",
    "from elastica.interaction import AnisotropicFrictionalPlane\n",
    "\n",
    "from elastica.timestepper.symplectic_steppers import PositionVerlet\n",
    "from elastica.timestepper import integrate\n",
    "\n",
    "from elastica.callback_functions import CallBackBaseClass\n",
    "from collections import defaultdict\n",
    "\n",
    "print(\"now done\")"
   ]
  },
  {
   "cell_type": "code",
   "execution_count": 4,
   "id": "b4d89416",
   "metadata": {},
   "outputs": [
    {
     "name": "stdout",
     "output_type": "stream",
     "text": [
      "Gravity now acting on shearable rod\n",
      "Muscle torques added to the rod\n",
      "Friction forces added to the rod\n",
      "Callback function added to the simulator\n",
      "Total steps 100000\n"
     ]
    },
    {
     "name": "stderr",
     "output_type": "stream",
     "text": [
      "100%|████████████████████████████████████████████████████████████████████████| 100000/100000 [00:56<00:00, 1773.97it/s]"
     ]
    },
    {
     "name": "stdout",
     "output_type": "stream",
     "text": [
      "Final time of simulation is :  9.999999999983364\n"
     ]
    },
    {
     "name": "stderr",
     "output_type": "stream",
     "text": [
      "\n"
     ]
    },
    {
     "data": {
      "text/plain": [
       "9.999999999983364"
      ]
     },
     "execution_count": 4,
     "metadata": {},
     "output_type": "execute_result"
    }
   ],
   "source": [
    "class OctoArmSimulator(BaseSystemCollection, Constraints, Forcing, CallBacks, Damping):\n",
    "    pass\n",
    "\n",
    "octopus_sim = OctoArmSimulator()\n",
    "\n",
    "n_elem = 50\n",
    "start = np.array([0.0, 0.0, 0.0])\n",
    "direction = np.array([0.0, 0.0, 1.0])\n",
    "normal = np.array([0.0, 1.0, 0.0])\n",
    "base_length = 0.35\n",
    "base_radius = base_length * 0.011\n",
    "base_area = np.pi * base_radius ** 2\n",
    "density = 1000\n",
    "nu = 2e-3\n",
    "E = 1e6\n",
    "poisson_ratio = 0.5\n",
    "shear_modulus = E / (poisson_ratio + 1.0)\n",
    "\n",
    "shearable_rod = CosseratRod.straight_rod(\n",
    "    n_elem,\n",
    "    start,\n",
    "    direction,\n",
    "    normal,\n",
    "    base_length,\n",
    "    base_radius,\n",
    "    density,\n",
    "    youngs_modulus=E,\n",
    "    shear_modulus=shear_modulus,\n",
    ")\n",
    "\n",
    "octopus_sim.append(shearable_rod)\n",
    "\n",
    "dt = 1e-4\n",
    "octopus_sim.dampen(shearable_rod).using(\n",
    "    AnalyticalLinearDamper,\n",
    "    damping_constant=nu,\n",
    "    time_step=dt,\n",
    ")\n",
    "\n",
    "gravitational_acc = -9.80665\n",
    "octopus_sim.add_forcing_to(shearable_rod).using(\n",
    "    GravityForces, acc_gravity=np.array([0.0, gravitational_acc, 0.0])\n",
    ")\n",
    "print(\"Gravity now acting on shearable rod\")\n",
    "\n",
    "period = 2.0\n",
    "wave_length = 1.0\n",
    "b_coeff = np.array([3.4e-3, 3.3e-3, 4.2e-3, 2.6e-3, 3.6e-3, 3.5e-3])\n",
    "\n",
    "octopus_sim.add_forcing_to(shearable_rod).using(\n",
    "    MuscleTorques,\n",
    "    base_length=base_length,\n",
    "    b_coeff=b_coeff,\n",
    "    period=period,\n",
    "    wave_number=2.0 * np.pi / (wave_length),\n",
    "    phase_shift=0.0,\n",
    "    rest_lengths=shearable_rod.rest_lengths,\n",
    "    ramp_up_time=period,\n",
    "    direction=normal,\n",
    "    with_spline=True,\n",
    ")\n",
    "print(\"Muscle torques added to the rod\")\n",
    "\n",
    "origin_plane = np.array([0.0, -base_radius, 0.0])\n",
    "normal_plane = normal\n",
    "slip_velocity_tol = 1e-8\n",
    "froude = 0.1\n",
    "mu = base_length / (period * period * np.abs(gravitational_acc) * froude)\n",
    "kinetic_mu_array = np.array(\n",
    "    [1.0 * mu, 1.5 * mu, 2.0 * mu]\n",
    ")  # [forward, backward, sideways]\n",
    "static_mu_array = 2 * kinetic_mu_array\n",
    "\n",
    "\n",
    "octopus_sim.add_forcing_to(shearable_rod).using(\n",
    "    AnisotropicFrictionalPlane,\n",
    "    k=1.0,\n",
    "    nu=1e-6,\n",
    "    plane_origin=origin_plane,\n",
    "    plane_normal=normal_plane,\n",
    "    slip_velocity_tol=slip_velocity_tol,\n",
    "    static_mu_array=static_mu_array,\n",
    "    kinetic_mu_array=kinetic_mu_array,\n",
    ")\n",
    "print(\"Friction forces added to the rod\")\n",
    "\n",
    "class ContinuumOctoCallBack(CallBackBaseClass):\n",
    "    \"\"\"\n",
    "    Call back function for continuum octopus arm\n",
    "    \"\"\"\n",
    "\n",
    "    def __init__(self, step_skip: int, callback_params: dict):\n",
    "        CallBackBaseClass.__init__(self)\n",
    "        self.every = step_skip\n",
    "        self.callback_params = callback_params\n",
    "\n",
    "    def make_callback(self, system, time, current_step: int):\n",
    "\n",
    "        if current_step % self.every == 0:\n",
    "\n",
    "            self.callback_params[\"time\"].append(time)\n",
    "            self.callback_params[\"step\"].append(current_step)\n",
    "            self.callback_params[\"position\"].append(system.position_collection.copy())\n",
    "            self.callback_params[\"velocity\"].append(system.velocity_collection.copy())\n",
    "            self.callback_params[\"avg_velocity\"].append(\n",
    "                system.compute_velocity_center_of_mass()\n",
    "            )\n",
    "\n",
    "            self.callback_params[\"center_of_mass\"].append(\n",
    "                system.compute_position_center_of_mass()\n",
    "            )\n",
    "            self.callback_params[\"curvature\"].append(system.kappa.copy())\n",
    "\n",
    "            return\n",
    "\n",
    "\n",
    "pp_list = defaultdict(list)\n",
    "octopus_sim.collect_diagnostics(shearable_rod).using(\n",
    "    ContinuumOctoCallBack, step_skip=100, callback_params=pp_list\n",
    ")\n",
    "print(\"Callback function added to the simulator\")\n",
    "\n",
    "octopus_sim.finalize()\n",
    "\n",
    "final_time = 5.0 * period\n",
    "total_steps = int(final_time / dt)\n",
    "print(\"Total steps\", total_steps)\n",
    "\n",
    "timestepper = PositionVerlet()\n",
    "\n",
    "integrate(timestepper, octopus_sim, final_time, total_steps)"
   ]
  }
 ],
 "metadata": {
  "kernelspec": {
   "display_name": "Python 3 (ipykernel)",
   "language": "python",
   "name": "python3"
  },
  "language_info": {
   "codemirror_mode": {
    "name": "ipython",
    "version": 3
   },
   "file_extension": ".py",
   "mimetype": "text/x-python",
   "name": "python",
   "nbconvert_exporter": "python",
   "pygments_lexer": "ipython3",
   "version": "3.11.5"
  }
 },
 "nbformat": 4,
 "nbformat_minor": 5
}
