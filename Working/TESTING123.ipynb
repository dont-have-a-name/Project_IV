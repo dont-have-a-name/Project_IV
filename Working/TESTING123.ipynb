{
 "cells": [
  {
   "cell_type": "code",
   "execution_count": 2,
   "id": "ee9c95db",
   "metadata": {},
   "outputs": [
    {
     "name": "stdout",
     "output_type": "stream",
     "text": [
      "now done\n"
     ]
    }
   ],
   "source": [
    "import numpy as np\n",
    "\n",
    "from elastica.modules import BaseSystemCollection, Constraints, Forcing, CallBacks, Damping\n",
    "from elastica.rod.cosserat_rod import CosseratRod\n",
    "from elastica.dissipation import AnalyticalLinearDamper\n",
    "from elastica.external_forces import GravityForces, MuscleTorques\n",
    "from elastica.interaction import AnisotropicFrictionalPlane\n",
    "\n",
    "from elastica.timestepper.symplectic_steppers import PositionVerlet\n",
    "from elastica.timestepper import integrate\n",
    "\n",
    "from elastica.callback_functions import CallBackBaseClass\n",
    "from collections import defaultdict\n",
    "\n",
    "print(\"now done\")"
   ]
  },
  {
   "cell_type": "code",
   "execution_count": null,
   "id": "b4d89416",
   "metadata": {},
   "outputs": [],
   "source": [
    "class OctoArmSimulator(BaseSystemCollection, Constraints, Forcing, CallBacks, Damping):\n",
    "    pass\n",
    "\n",
    "octopus_sim = OctoArmSimulator()\n",
    "\n",
    "n_elem = 50\n",
    "start = np.array([0.0, 0.0, 0.0])\n",
    "direction = np.array([0.0, 0.0, 1.0])\n",
    "normal = np.array([0.0, 1.0, 0.0])\n",
    "base_length = 0.35\n",
    "base_radius = base_length * 0.011\n",
    "base_area = np.pi * base_radius ** 2\n",
    "density = 1000\n",
    "nu = 2e-3\n",
    "E = 1e6\n",
    "poisson_ratio = 0.5\n",
    "shear_modulus = E / (poisson_ratio + 1.0)"
   ]
  }
 ],
 "metadata": {
  "kernelspec": {
   "display_name": "Python 3 (ipykernel)",
   "language": "python",
   "name": "python3"
  },
  "language_info": {
   "codemirror_mode": {
    "name": "ipython",
    "version": 3
   },
   "file_extension": ".py",
   "mimetype": "text/x-python",
   "name": "python",
   "nbconvert_exporter": "python",
   "pygments_lexer": "ipython3",
   "version": "3.11.5"
  }
 },
 "nbformat": 4,
 "nbformat_minor": 5
}
